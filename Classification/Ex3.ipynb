{
 "cells": [
  {
   "cell_type": "markdown",
   "metadata": {},
   "source": [
    "## EX 3: Plot classification probability\n",
    "\n",
    "## (一)資料匯入及描述\n",
    "* 首先先匯入iris 鳶尾花資料集，使用`iris = datasets.load_iris()`將資料存入\n",
    "* 準備X (特徵資料) 以及 y (目標資料)，僅使用兩個特徵方便視覺呈現"
   ]
  },
  {
   "cell_type": "code",
   "execution_count": 10,
   "metadata": {
    "collapsed": false
   },
   "outputs": [],
   "source": [
    "import matplotlib.pyplot as plt\n",
    "import numpy as np\n",
    "\n",
    "from sklearn.linear_model import LogisticRegression\n",
    "from sklearn.svm import SVC\n",
    "from sklearn import datasets\n",
    "\n",
    "iris = datasets.load_iris()\n",
    "X = iris.data[:, 0:2]  # 僅使用前兩個特徵，方便視覺化呈現\n",
    "y = iris.target\n",
    "\n",
    "n_features = X.shape[1]"
   ]
  },
  {
   "cell_type": "markdown",
   "metadata": {},
   "source": [
    "* `iris`為一個dict型別資料，我們可以用以下指令來看一下資料的內容。"
   ]
  },
  {
   "cell_type": "code",
   "execution_count": null,
   "metadata": {
    "collapsed": false
   },
   "outputs": [],
   "source": [
    "for key,value in iris.items() :\n",
    "    try:\n",
    "        print (key,value.shape)\n",
    "    except:\n",
    "        print (key)"
   ]
  },
  {
   "cell_type": "markdown",
   "metadata": {},
   "source": [
    "| 顯示 | 說明 |\n",
    "| -- | -- |\n",
    "| ('target_names', (3L,))| 共有三種鳶尾花 setosa, versicolor, virginica |\n",
    "| ('data', (150L, 4L)) | 有150筆資料，共四種特徵 |\n",
    "| ('target', (150L,))| 這150筆資料各是那一種鳶尾花|\n",
    "| DESCR | 資料之描述 |\n",
    "| feature_names| 四個特徵代表的意義 |\n",
    "\n",
    "## (二) "
   ]
  },
  {
   "cell_type": "code",
   "execution_count": 9,
   "metadata": {
    "collapsed": false
   },
   "outputs": [
    {
     "name": "stdout",
     "output_type": "stream",
     "text": [
      "classif_rate for L2 logistic (OvR) : 76.666667 \n",
      "classif_rate for L1 logistic : 79.333333 \n",
      "classif_rate for Linear SVC : 82.000000 \n",
      "classif_rate for L2 logistic (Multinomial) : 82.000000 \n"
     ]
    }
   ],
   "source": [
    "C = 1.0\n",
    "\n",
    "# Create different classifiers. The logistic regression cannot do\n",
    "# multiclass out of the box.\n",
    "classifiers = {'L1 logistic': LogisticRegression(C=C, penalty='l1'),\n",
    "               'L2 logistic (OvR)': LogisticRegression(C=C, penalty='l2'),\n",
    "               'Linear SVC': SVC(kernel='linear', C=C, probability=True,\n",
    "                                 random_state=0),\n",
    "               'L2 logistic (Multinomial)': LogisticRegression(\n",
    "                C=C, solver='lbfgs', multi_class='multinomial'\n",
    "                )}\n",
    "\n",
    "n_classifiers = len(classifiers)\n",
    "\n",
    "plt.figure(figsize=(3 * 2, n_classifiers * 2))\n",
    "plt.subplots_adjust(bottom=.2, top=.95)\n",
    "\n",
    "xx = np.linspace(3, 9, 100)\n",
    "yy = np.linspace(1, 5, 100).T\n",
    "xx, yy = np.meshgrid(xx, yy)\n",
    "Xfull = np.c_[xx.ravel(), yy.ravel()]\n",
    "\n",
    "for index, (name, classifier) in enumerate(classifiers.items()):\n",
    "    classifier.fit(X, y)\n",
    "\n",
    "    y_pred = classifier.predict(X)\n",
    "    classif_rate = np.mean(y_pred.ravel() == y.ravel()) * 100\n",
    "    print(\"classif_rate for %s : %f \" % (name, classif_rate))\n",
    "\n",
    "    # View probabilities=\n",
    "    probas = classifier.predict_proba(Xfull)\n",
    "    n_classes = np.unique(y_pred).size\n",
    "    for k in range(n_classes):\n",
    "        plt.subplot(n_classifiers, n_classes, index * n_classes + k + 1)\n",
    "        plt.title(\"Class %d\" % k)\n",
    "        if k == 0:\n",
    "            plt.ylabel(name)\n",
    "        imshow_handle = plt.imshow(probas[:, k].reshape((100, 100)),\n",
    "                                   extent=(3, 9, 1, 5), origin='lower')\n",
    "        plt.xticks(())\n",
    "        plt.yticks(())\n",
    "        idx = (y_pred == k)\n",
    "        if idx.any():\n",
    "            plt.scatter(X[idx, 0], X[idx, 1], marker='o', c='k')\n",
    "\n",
    "ax = plt.axes([0.15, 0.04, 0.7, 0.05])\n",
    "plt.title(\"Probability\")\n",
    "plt.colorbar(imshow_handle, cax=ax, orientation='horizontal')\n",
    "\n",
    "plt.show()"
   ]
  },
  {
   "cell_type": "code",
   "execution_count": null,
   "metadata": {
    "collapsed": true
   },
   "outputs": [],
   "source": []
  }
 ],
 "metadata": {
  "kernelspec": {
   "display_name": "Python 2",
   "language": "python",
   "name": "python2"
  },
  "language_info": {
   "codemirror_mode": {
    "name": "ipython",
    "version": 2
   },
   "file_extension": ".py",
   "mimetype": "text/x-python",
   "name": "python",
   "nbconvert_exporter": "python",
   "pygments_lexer": "ipython2",
   "version": "2.7.10"
  }
 },
 "nbformat": 4,
 "nbformat_minor": 0
}
